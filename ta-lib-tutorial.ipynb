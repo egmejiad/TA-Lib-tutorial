{
 "cells": [
  {
   "cell_type": "markdown",
   "metadata": {},
   "source": [
    "# TA-Lib Tutorial\n",
    "\n",
    "\"TA-Lib is widely used by trading software developers requiring to perform technical analysis of financial market data.\"  \n",
    "We will show how to use them here, in the context of pinkfish."
   ]
  },
  {
   "cell_type": "code",
   "execution_count": 1,
   "metadata": {
    "ExecuteTime": {
     "end_time": "2019-08-05T19:30:28.821735Z",
     "start_time": "2019-08-05T19:30:28.795344Z"
    }
   },
   "outputs": [
    {
     "data": {
      "application/javascript": [
       "IPython.OutputArea.prototype._should_scroll = function(lines) {\n",
       "    return false;\n",
       "}"
      ],
      "text/plain": [
       "<IPython.core.display.Javascript object>"
      ]
     },
     "metadata": {},
     "output_type": "display_data"
    }
   ],
   "source": [
    "%%javascript\n",
    "IPython.OutputArea.prototype._should_scroll = function(lines) {\n",
    "    return false;\n",
    "}"
   ]
  },
  {
   "cell_type": "code",
   "execution_count": 2,
   "metadata": {
    "ExecuteTime": {
     "end_time": "2019-08-05T19:30:29.630182Z",
     "start_time": "2019-08-05T19:30:28.824991Z"
    }
   },
   "outputs": [],
   "source": [
    "# use future imports for python 3.x forward compatibility\n",
    "from __future__ import print_function\n",
    "from __future__ import unicode_literals\n",
    "from __future__ import division\n",
    "from __future__ import absolute_import\n",
    "\n",
    "# other imports\n",
    "import pandas as pd\n",
    "import matplotlib.pyplot as plt\n",
    "import datetime\n",
    "import talib\n",
    "from talib.abstract import *\n",
    "from talib import MA_Type\n",
    "import itable\n",
    "\n",
    "# project imports\n",
    "import pinkfish as pf\n",
    "\n",
    "# format price data\n",
    "pd.options.display.float_format = '{:0.2f}'.format\n",
    "\n",
    "%matplotlib inline"
   ]
  },
  {
   "cell_type": "code",
   "execution_count": 3,
   "metadata": {
    "ExecuteTime": {
     "end_time": "2019-08-05T19:30:29.646391Z",
     "start_time": "2019-08-05T19:30:29.636429Z"
    }
   },
   "outputs": [],
   "source": [
    "# set size of inline plots\n",
    "'''note: rcParams can't be in same cell as import matplotlib\n",
    "   or %matplotlib inline\n",
    "   \n",
    "   %matplotlib notebook: will lead to interactive plots embedded within\n",
    "   the notebook, you can zoom and resize the figure\n",
    "   \n",
    "   %matplotlib inline: only draw static images in the notebook\n",
    "'''\n",
    "plt.rcParams[\"figure.figsize\"] = (10, 7)"
   ]
  },
  {
   "cell_type": "markdown",
   "metadata": {},
   "source": [
    "Some global data"
   ]
  },
  {
   "cell_type": "code",
   "execution_count": 4,
   "metadata": {
    "ExecuteTime": {
     "end_time": "2019-08-05T19:30:29.659964Z",
     "start_time": "2019-08-05T19:30:29.651165Z"
    }
   },
   "outputs": [],
   "source": [
    "symbol = 'SPY'\n",
    "start = datetime.datetime(2018, 1, 1)\n",
    "end = datetime.datetime.now()"
   ]
  },
  {
   "cell_type": "markdown",
   "metadata": {},
   "source": [
    "Fetch symbol data from cache, if available."
   ]
  },
  {
   "cell_type": "code",
   "execution_count": 5,
   "metadata": {
    "ExecuteTime": {
     "end_time": "2019-08-05T19:30:29.705943Z",
     "start_time": "2019-08-05T19:30:29.664209Z"
    }
   },
   "outputs": [],
   "source": [
    "ts = pf.fetch_timeseries(symbol)"
   ]
  },
  {
   "cell_type": "code",
   "execution_count": 6,
   "metadata": {
    "ExecuteTime": {
     "end_time": "2019-08-05T19:30:29.749333Z",
     "start_time": "2019-08-05T19:30:29.719129Z"
    }
   },
   "outputs": [
    {
     "data": {
      "text/html": [
       "<div>\n",
       "<style scoped>\n",
       "    .dataframe tbody tr th:only-of-type {\n",
       "        vertical-align: middle;\n",
       "    }\n",
       "\n",
       "    .dataframe tbody tr th {\n",
       "        vertical-align: top;\n",
       "    }\n",
       "\n",
       "    .dataframe thead th {\n",
       "        text-align: right;\n",
       "    }\n",
       "</style>\n",
       "<table border=\"1\" class=\"dataframe\">\n",
       "  <thead>\n",
       "    <tr style=\"text-align: right;\">\n",
       "      <th></th>\n",
       "      <th>high</th>\n",
       "      <th>low</th>\n",
       "      <th>open</th>\n",
       "      <th>close</th>\n",
       "      <th>volume</th>\n",
       "      <th>adj_close</th>\n",
       "    </tr>\n",
       "    <tr>\n",
       "      <th>date</th>\n",
       "      <th></th>\n",
       "      <th></th>\n",
       "      <th></th>\n",
       "      <th></th>\n",
       "      <th></th>\n",
       "      <th></th>\n",
       "    </tr>\n",
       "  </thead>\n",
       "  <tbody>\n",
       "    <tr>\n",
       "      <th>2019-07-30</th>\n",
       "      <td>301.17</td>\n",
       "      <td>299.49</td>\n",
       "      <td>299.91</td>\n",
       "      <td>300.72</td>\n",
       "      <td>45849000.00</td>\n",
       "      <td>300.72</td>\n",
       "    </tr>\n",
       "    <tr>\n",
       "      <th>2019-07-31</th>\n",
       "      <td>301.20</td>\n",
       "      <td>295.20</td>\n",
       "      <td>300.99</td>\n",
       "      <td>297.43</td>\n",
       "      <td>104245200.00</td>\n",
       "      <td>297.43</td>\n",
       "    </tr>\n",
       "    <tr>\n",
       "      <th>2019-08-01</th>\n",
       "      <td>300.87</td>\n",
       "      <td>293.96</td>\n",
       "      <td>297.60</td>\n",
       "      <td>294.84</td>\n",
       "      <td>142646600.00</td>\n",
       "      <td>294.84</td>\n",
       "    </tr>\n",
       "    <tr>\n",
       "      <th>2019-08-02</th>\n",
       "      <td>294.12</td>\n",
       "      <td>290.90</td>\n",
       "      <td>293.85</td>\n",
       "      <td>292.62</td>\n",
       "      <td>115917700.00</td>\n",
       "      <td>292.62</td>\n",
       "    </tr>\n",
       "    <tr>\n",
       "      <th>2019-08-05</th>\n",
       "      <td>288.21</td>\n",
       "      <td>284.81</td>\n",
       "      <td>288.09</td>\n",
       "      <td>284.81</td>\n",
       "      <td>64929017.00</td>\n",
       "      <td>284.81</td>\n",
       "    </tr>\n",
       "  </tbody>\n",
       "</table>\n",
       "</div>"
      ],
      "text/plain": [
       "             high    low   open  close       volume  adj_close\n",
       "date                                                          \n",
       "2019-07-30 301.17 299.49 299.91 300.72  45849000.00     300.72\n",
       "2019-07-31 301.20 295.20 300.99 297.43 104245200.00     297.43\n",
       "2019-08-01 300.87 293.96 297.60 294.84 142646600.00     294.84\n",
       "2019-08-02 294.12 290.90 293.85 292.62 115917700.00     292.62\n",
       "2019-08-05 288.21 284.81 288.09 284.81  64929017.00     284.81"
      ]
     },
     "execution_count": 6,
     "metadata": {},
     "output_type": "execute_result"
    }
   ],
   "source": [
    "ts.tail()"
   ]
  },
  {
   "cell_type": "markdown",
   "metadata": {},
   "source": [
    "Select timeseries between start and end."
   ]
  },
  {
   "cell_type": "code",
   "execution_count": 7,
   "metadata": {
    "ExecuteTime": {
     "end_time": "2019-08-05T19:30:29.769774Z",
     "start_time": "2019-08-05T19:30:29.758258Z"
    }
   },
   "outputs": [],
   "source": [
    "ts = pf.select_tradeperiod(ts, start, end)"
   ]
  },
  {
   "cell_type": "code",
   "execution_count": 8,
   "metadata": {
    "ExecuteTime": {
     "end_time": "2019-08-05T19:30:29.801849Z",
     "start_time": "2019-08-05T19:30:29.774419Z"
    }
   },
   "outputs": [
    {
     "data": {
      "text/html": [
       "<div>\n",
       "<style scoped>\n",
       "    .dataframe tbody tr th:only-of-type {\n",
       "        vertical-align: middle;\n",
       "    }\n",
       "\n",
       "    .dataframe tbody tr th {\n",
       "        vertical-align: top;\n",
       "    }\n",
       "\n",
       "    .dataframe thead th {\n",
       "        text-align: right;\n",
       "    }\n",
       "</style>\n",
       "<table border=\"1\" class=\"dataframe\">\n",
       "  <thead>\n",
       "    <tr style=\"text-align: right;\">\n",
       "      <th></th>\n",
       "      <th>high</th>\n",
       "      <th>low</th>\n",
       "      <th>open</th>\n",
       "      <th>close</th>\n",
       "      <th>volume</th>\n",
       "      <th>adj_close</th>\n",
       "    </tr>\n",
       "    <tr>\n",
       "      <th>date</th>\n",
       "      <th></th>\n",
       "      <th></th>\n",
       "      <th></th>\n",
       "      <th></th>\n",
       "      <th></th>\n",
       "      <th></th>\n",
       "    </tr>\n",
       "  </thead>\n",
       "  <tbody>\n",
       "    <tr>\n",
       "      <th>2017-01-03</th>\n",
       "      <td>225.83</td>\n",
       "      <td>223.88</td>\n",
       "      <td>225.04</td>\n",
       "      <td>225.24</td>\n",
       "      <td>91366500.00</td>\n",
       "      <td>214.83</td>\n",
       "    </tr>\n",
       "    <tr>\n",
       "      <th>2017-01-04</th>\n",
       "      <td>226.75</td>\n",
       "      <td>225.61</td>\n",
       "      <td>225.62</td>\n",
       "      <td>226.58</td>\n",
       "      <td>78744400.00</td>\n",
       "      <td>216.11</td>\n",
       "    </tr>\n",
       "    <tr>\n",
       "      <th>2017-01-05</th>\n",
       "      <td>226.58</td>\n",
       "      <td>225.48</td>\n",
       "      <td>226.27</td>\n",
       "      <td>226.40</td>\n",
       "      <td>78379000.00</td>\n",
       "      <td>215.94</td>\n",
       "    </tr>\n",
       "    <tr>\n",
       "      <th>2017-01-06</th>\n",
       "      <td>227.75</td>\n",
       "      <td>225.90</td>\n",
       "      <td>226.53</td>\n",
       "      <td>227.21</td>\n",
       "      <td>71559900.00</td>\n",
       "      <td>216.71</td>\n",
       "    </tr>\n",
       "    <tr>\n",
       "      <th>2017-01-09</th>\n",
       "      <td>227.07</td>\n",
       "      <td>226.42</td>\n",
       "      <td>226.91</td>\n",
       "      <td>226.46</td>\n",
       "      <td>46939700.00</td>\n",
       "      <td>215.99</td>\n",
       "    </tr>\n",
       "  </tbody>\n",
       "</table>\n",
       "</div>"
      ],
      "text/plain": [
       "             high    low   open  close      volume  adj_close\n",
       "date                                                         \n",
       "2017-01-03 225.83 223.88 225.04 225.24 91366500.00     214.83\n",
       "2017-01-04 226.75 225.61 225.62 226.58 78744400.00     216.11\n",
       "2017-01-05 226.58 225.48 226.27 226.40 78379000.00     215.94\n",
       "2017-01-06 227.75 225.90 226.53 227.21 71559900.00     216.71\n",
       "2017-01-09 227.07 226.42 226.91 226.46 46939700.00     215.99"
      ]
     },
     "execution_count": 8,
     "metadata": {},
     "output_type": "execute_result"
    }
   ],
   "source": [
    "ts.head()"
   ]
  },
  {
   "cell_type": "markdown",
   "metadata": {},
   "source": [
    "### Get info about TA-Lib"
   ]
  },
  {
   "cell_type": "code",
   "execution_count": 9,
   "metadata": {
    "ExecuteTime": {
     "end_time": "2019-08-05T19:30:29.821753Z",
     "start_time": "2019-08-05T19:30:29.808117Z"
    }
   },
   "outputs": [
    {
     "name": "stdout",
     "output_type": "stream",
     "text": [
      "There are 158 TA-Lib functions!\n"
     ]
    }
   ],
   "source": [
    "print('There are {} TA-Lib functions!'.format(len(talib.get_functions())))"
   ]
  },
  {
   "cell_type": "markdown",
   "metadata": {},
   "source": [
    "Here is a complete listing of the functions by group:"
   ]
  },
  {
   "cell_type": "code",
   "execution_count": 10,
   "metadata": {
    "ExecuteTime": {
     "end_time": "2019-08-05T19:30:29.908193Z",
     "start_time": "2019-08-05T19:30:29.829161Z"
    }
   },
   "outputs": [
    {
     "name": "stdout",
     "output_type": "stream",
     "text": [
      "Pattern Recognition\n",
      "-----------------------------------------\n",
      "CDL2CROWS - Two Crows\n",
      "CDL3BLACKCROWS - Three Black Crows\n",
      "CDL3INSIDE - Three Inside Up/Down\n",
      "CDL3LINESTRIKE - Three-Line Strike \n",
      "CDL3OUTSIDE - Three Outside Up/Down\n",
      "CDL3STARSINSOUTH - Three Stars In The South\n",
      "CDL3WHITESOLDIERS - Three Advancing White Soldiers\n",
      "CDLABANDONEDBABY - Abandoned Baby\n",
      "CDLADVANCEBLOCK - Advance Block\n",
      "CDLBELTHOLD - Belt-hold\n",
      "CDLBREAKAWAY - Breakaway\n",
      "CDLCLOSINGMARUBOZU - Closing Marubozu\n",
      "CDLCONCEALBABYSWALL - Concealing Baby Swallow\n",
      "CDLCOUNTERATTACK - Counterattack\n",
      "CDLDARKCLOUDCOVER - Dark Cloud Cover\n",
      "CDLDOJI - Doji\n",
      "CDLDOJISTAR - Doji Star\n",
      "CDLDRAGONFLYDOJI - Dragonfly Doji\n",
      "CDLENGULFING - Engulfing Pattern\n",
      "CDLEVENINGDOJISTAR - Evening Doji Star\n",
      "CDLEVENINGSTAR - Evening Star\n",
      "CDLGAPSIDESIDEWHITE - Up/Down-gap side-by-side white lines\n",
      "CDLGRAVESTONEDOJI - Gravestone Doji\n",
      "CDLHAMMER - Hammer\n",
      "CDLHANGINGMAN - Hanging Man\n",
      "CDLHARAMI - Harami Pattern\n",
      "CDLHARAMICROSS - Harami Cross Pattern\n",
      "CDLHIGHWAVE - High-Wave Candle\n",
      "CDLHIKKAKE - Hikkake Pattern\n",
      "CDLHIKKAKEMOD - Modified Hikkake Pattern\n",
      "CDLHOMINGPIGEON - Homing Pigeon\n",
      "CDLIDENTICAL3CROWS - Identical Three Crows\n",
      "CDLINNECK - In-Neck Pattern\n",
      "CDLINVERTEDHAMMER - Inverted Hammer\n",
      "CDLKICKING - Kicking\n",
      "CDLKICKINGBYLENGTH - Kicking - bull/bear determined by the longer marubozu\n",
      "CDLLADDERBOTTOM - Ladder Bottom\n",
      "CDLLONGLEGGEDDOJI - Long Legged Doji\n",
      "CDLLONGLINE - Long Line Candle\n",
      "CDLMARUBOZU - Marubozu\n",
      "CDLMATCHINGLOW - Matching Low\n",
      "CDLMATHOLD - Mat Hold\n",
      "CDLMORNINGDOJISTAR - Morning Doji Star\n",
      "CDLMORNINGSTAR - Morning Star\n",
      "CDLONNECK - On-Neck Pattern\n",
      "CDLPIERCING - Piercing Pattern\n",
      "CDLRICKSHAWMAN - Rickshaw Man\n",
      "CDLRISEFALL3METHODS - Rising/Falling Three Methods\n",
      "CDLSEPARATINGLINES - Separating Lines\n",
      "CDLSHOOTINGSTAR - Shooting Star\n",
      "CDLSHORTLINE - Short Line Candle\n",
      "CDLSPINNINGTOP - Spinning Top\n",
      "CDLSTALLEDPATTERN - Stalled Pattern\n",
      "CDLSTICKSANDWICH - Stick Sandwich\n",
      "CDLTAKURI - Takuri (Dragonfly Doji with very long lower shadow)\n",
      "CDLTASUKIGAP - Tasuki Gap\n",
      "CDLTHRUSTING - Thrusting Pattern\n",
      "CDLTRISTAR - Tristar Pattern\n",
      "CDLUNIQUE3RIVER - Unique 3 River\n",
      "CDLUPSIDEGAP2CROWS - Upside Gap Two Crows\n",
      "CDLXSIDEGAP3METHODS - Upside/Downside Gap Three Methods\n",
      "\n",
      "Volume Indicators\n",
      "-----------------------------------------\n",
      "AD - Chaikin A/D Line\n",
      "ADOSC - Chaikin A/D Oscillator\n",
      "OBV - On Balance Volume\n",
      "\n",
      "Math Transform\n",
      "-----------------------------------------\n",
      "ACOS - Vector Trigonometric ACos\n",
      "ASIN - Vector Trigonometric ASin\n",
      "ATAN - Vector Trigonometric ATan\n",
      "CEIL - Vector Ceil\n",
      "COS - Vector Trigonometric Cos\n",
      "COSH - Vector Trigonometric Cosh\n",
      "EXP - Vector Arithmetic Exp\n",
      "FLOOR - Vector Floor\n",
      "LN - Vector Log Natural\n",
      "LOG10 - Vector Log10\n",
      "SIN - Vector Trigonometric Sin\n",
      "SINH - Vector Trigonometric Sinh\n",
      "SQRT - Vector Square Root\n",
      "TAN - Vector Trigonometric Tan\n",
      "TANH - Vector Trigonometric Tanh\n",
      "\n",
      "Math Operators\n",
      "-----------------------------------------\n",
      "ADD - Vector Arithmetic Add\n",
      "DIV - Vector Arithmetic Div\n",
      "MAX - Highest value over a specified period\n",
      "MAXINDEX - Index of highest value over a specified period\n",
      "MIN - Lowest value over a specified period\n",
      "MININDEX - Index of lowest value over a specified period\n",
      "MINMAX - Lowest and highest values over a specified period\n",
      "MINMAXINDEX - Indexes of lowest and highest values over a specified period\n",
      "MULT - Vector Arithmetic Mult\n",
      "SUB - Vector Arithmetic Substraction\n",
      "SUM - Summation\n",
      "\n",
      "Cycle Indicators\n",
      "-----------------------------------------\n",
      "HT_DCPERIOD - Hilbert Transform - Dominant Cycle Period\n",
      "HT_DCPHASE - Hilbert Transform - Dominant Cycle Phase\n",
      "HT_PHASOR - Hilbert Transform - Phasor Components\n",
      "HT_SINE - Hilbert Transform - SineWave\n",
      "HT_TRENDMODE - Hilbert Transform - Trend vs Cycle Mode\n",
      "\n",
      "Volatility Indicators\n",
      "-----------------------------------------\n",
      "ATR - Average True Range\n",
      "NATR - Normalized Average True Range\n",
      "TRANGE - True Range\n",
      "\n",
      "Overlap Studies\n",
      "-----------------------------------------\n",
      "BBANDS - Bollinger Bands\n",
      "DEMA - Double Exponential Moving Average\n",
      "EMA - Exponential Moving Average\n",
      "HT_TRENDLINE - Hilbert Transform - Instantaneous Trendline\n",
      "KAMA - Kaufman Adaptive Moving Average\n",
      "MA - Moving average\n",
      "MAMA - MESA Adaptive Moving Average\n",
      "MAVP - Moving average with variable period\n",
      "MIDPOINT - MidPoint over period\n",
      "MIDPRICE - Midpoint Price over period\n",
      "SAR - Parabolic SAR\n",
      "SAREXT - Parabolic SAR - Extended\n",
      "SMA - Simple Moving Average\n",
      "T3 - Triple Exponential Moving Average (T3)\n",
      "TEMA - Triple Exponential Moving Average\n",
      "TRIMA - Triangular Moving Average\n",
      "WMA - Weighted Moving Average\n",
      "\n",
      "Statistic Functions\n",
      "-----------------------------------------\n",
      "BETA - Beta\n",
      "CORREL - Pearson's Correlation Coefficient (r)\n",
      "LINEARREG - Linear Regression\n",
      "LINEARREG_ANGLE - Linear Regression Angle\n",
      "LINEARREG_INTERCEPT - Linear Regression Intercept\n",
      "LINEARREG_SLOPE - Linear Regression Slope\n",
      "STDDEV - Standard Deviation\n",
      "TSF - Time Series Forecast\n",
      "VAR - Variance\n",
      "\n",
      "Momentum Indicators\n",
      "-----------------------------------------\n",
      "ADX - Average Directional Movement Index\n",
      "ADXR - Average Directional Movement Index Rating\n",
      "APO - Absolute Price Oscillator\n",
      "AROON - Aroon\n",
      "AROONOSC - Aroon Oscillator\n",
      "BOP - Balance Of Power\n",
      "CCI - Commodity Channel Index\n",
      "CMO - Chande Momentum Oscillator\n",
      "DX - Directional Movement Index\n",
      "MACD - Moving Average Convergence/Divergence\n",
      "MACDEXT - MACD with controllable MA type\n",
      "MACDFIX - Moving Average Convergence/Divergence Fix 12/26\n",
      "MFI - Money Flow Index\n",
      "MINUS_DI - Minus Directional Indicator\n",
      "MINUS_DM - Minus Directional Movement\n",
      "MOM - Momentum\n",
      "PLUS_DI - Plus Directional Indicator\n",
      "PLUS_DM - Plus Directional Movement\n",
      "PPO - Percentage Price Oscillator\n",
      "ROC - Rate of change : ((price/prevPrice)-1)*100\n",
      "ROCP - Rate of change Percentage: (price-prevPrice)/prevPrice\n",
      "ROCR - Rate of change ratio: (price/prevPrice)\n",
      "ROCR100 - Rate of change ratio 100 scale: (price/prevPrice)*100\n",
      "RSI - Relative Strength Index\n",
      "STOCH - Stochastic\n",
      "STOCHF - Stochastic Fast\n",
      "STOCHRSI - Stochastic Relative Strength Index\n",
      "TRIX - 1-day Rate-Of-Change (ROC) of a Triple Smooth EMA\n",
      "ULTOSC - Ultimate Oscillator\n",
      "WILLR - Williams' %R\n",
      "\n",
      "Price Transform\n",
      "-----------------------------------------\n",
      "AVGPRICE - Average Price\n",
      "MEDPRICE - Median Price\n",
      "TYPPRICE - Typical Price\n",
      "WCLPRICE - Weighted Close Price\n",
      "\n"
     ]
    }
   ],
   "source": [
    "for group, funcs in talib.get_function_groups().items():\n",
    "    print(group)\n",
    "    print('-----------------------------------------')\n",
    "    for func in funcs:\n",
    "        f = Function(func)\n",
    "        print('{} - {}'.format(func, f.info['display_name']))\n",
    "    print()"
   ]
  },
  {
   "cell_type": "markdown",
   "metadata": {},
   "source": [
    "### Get info about a specific TA-Lib function\n",
    "\n",
    "There are 2 different API that are available with talib, namely Function API and Abstract API.  For the Function API, you pass in a price series.  For the Abstract API, you pass in a collection of named inputs: 'open', 'high', 'low', 'close', and 'volume'.  One or more of these may be used as defaults, but can be changed with the 'price' parameter.  "
   ]
  },
  {
   "cell_type": "markdown",
   "metadata": {},
   "source": [
    "Print the function instance to get documentation.  We see that SMA has the parameter 'timeperiod' with default '30'.  The input_arrays can be a dataframe with columns named 'open', 'high', 'low', 'close', and 'volume'."
   ]
  },
  {
   "cell_type": "code",
   "execution_count": 11,
   "metadata": {
    "ExecuteTime": {
     "end_time": "2019-08-05T19:30:29.926242Z",
     "start_time": "2019-08-05T19:30:29.915115Z"
    }
   },
   "outputs": [
    {
     "name": "stdout",
     "output_type": "stream",
     "text": [
      "SMA([input_arrays], [timeperiod=30])\n",
      "\n",
      "Simple Moving Average (Overlap Studies)\n",
      "\n",
      "Inputs:\n",
      "    price: (any ndarray)\n",
      "Parameters:\n",
      "    timeperiod: 30\n",
      "Outputs:\n",
      "    real\n"
     ]
    }
   ],
   "source": [
    "print(SMA)"
   ]
  },
  {
   "cell_type": "markdown",
   "metadata": {},
   "source": [
    "More information is available through the 'info' property.  We observe here that the default price used is 'close'.  This can be changed by setting 'price' in the function call, e.g. price='open'."
   ]
  },
  {
   "cell_type": "code",
   "execution_count": 12,
   "metadata": {
    "ExecuteTime": {
     "end_time": "2019-08-05T19:30:29.942732Z",
     "start_time": "2019-08-05T19:30:29.933342Z"
    }
   },
   "outputs": [
    {
     "name": "stdout",
     "output_type": "stream",
     "text": [
      "{'input_names': OrderedDict([('price', 'close')]), 'display_name': 'Simple Moving Average', 'name': 'SMA', 'parameters': OrderedDict([('timeperiod', 30)]), 'output_flags': OrderedDict([('real', ['Line'])]), 'function_flags': ['Output scale same as input'], 'group': 'Overlap Studies', 'output_names': ['real']}\n"
     ]
    }
   ],
   "source": [
    "print(SMA.info)"
   ]
  },
  {
   "cell_type": "markdown",
   "metadata": {},
   "source": [
    "If we just want to see the inputs, we can print the input_names property."
   ]
  },
  {
   "cell_type": "code",
   "execution_count": 13,
   "metadata": {
    "ExecuteTime": {
     "end_time": "2019-08-05T19:30:29.956735Z",
     "start_time": "2019-08-05T19:30:29.944284Z"
    }
   },
   "outputs": [
    {
     "name": "stdout",
     "output_type": "stream",
     "text": [
      "OrderedDict([('price', 'close')])\n"
     ]
    }
   ],
   "source": [
    "print(SMA.input_names)"
   ]
  },
  {
   "cell_type": "markdown",
   "metadata": {},
   "source": [
    "If we just want to see the parameters, we can print the paramters property."
   ]
  },
  {
   "cell_type": "code",
   "execution_count": 14,
   "metadata": {
    "ExecuteTime": {
     "end_time": "2019-08-05T19:30:29.969773Z",
     "start_time": "2019-08-05T19:30:29.962396Z"
    }
   },
   "outputs": [
    {
     "name": "stdout",
     "output_type": "stream",
     "text": [
      "OrderedDict([('timeperiod', 30)])\n"
     ]
    }
   ],
   "source": [
    "print(SMA.parameters)"
   ]
  },
  {
   "cell_type": "markdown",
   "metadata": {},
   "source": [
    "If we just want to see the outputs, we can print the output_names property."
   ]
  },
  {
   "cell_type": "code",
   "execution_count": 15,
   "metadata": {
    "ExecuteTime": {
     "end_time": "2019-08-05T19:30:29.985793Z",
     "start_time": "2019-08-05T19:30:29.976328Z"
    }
   },
   "outputs": [
    {
     "name": "stdout",
     "output_type": "stream",
     "text": [
      "['real']\n"
     ]
    }
   ],
   "source": [
    "print(SMA.output_names)"
   ]
  },
  {
   "cell_type": "markdown",
   "metadata": {},
   "source": [
    "### Create a technical indicator using talib"
   ]
  },
  {
   "cell_type": "markdown",
   "metadata": {},
   "source": [
    "Create technical indicator: SMA (using defaults: timeperiod=30, price='close')"
   ]
  },
  {
   "cell_type": "code",
   "execution_count": 16,
   "metadata": {
    "ExecuteTime": {
     "end_time": "2019-08-05T19:30:30.028803Z",
     "start_time": "2019-08-05T19:30:29.987560Z"
    }
   },
   "outputs": [
    {
     "data": {
      "text/plain": [
       "date\n",
       "2019-07-30   297.15\n",
       "2019-07-31   297.32\n",
       "2019-08-01   297.38\n",
       "2019-08-02   297.27\n",
       "2019-08-05   296.96\n",
       "dtype: float64"
      ]
     },
     "execution_count": 16,
     "metadata": {},
     "output_type": "execute_result"
    }
   ],
   "source": [
    "sma = SMA(ts)\n",
    "sma.tail()"
   ]
  },
  {
   "cell_type": "markdown",
   "metadata": {
    "ExecuteTime": {
     "end_time": "2019-08-03T02:08:05.217321Z",
     "start_time": "2019-08-03T02:08:05.206897Z"
    }
   },
   "source": [
    "Create technical indicator: SMA (using: timeperiod=200, price='close')"
   ]
  },
  {
   "cell_type": "code",
   "execution_count": 17,
   "metadata": {
    "ExecuteTime": {
     "end_time": "2019-08-05T19:30:30.057782Z",
     "start_time": "2019-08-05T19:30:30.037271Z"
    }
   },
   "outputs": [
    {
     "data": {
      "text/plain": [
       "date\n",
       "2019-07-30   278.38\n",
       "2019-07-31   278.50\n",
       "2019-08-01   278.60\n",
       "2019-08-02   278.69\n",
       "2019-08-05   278.71\n",
       "dtype: float64"
      ]
     },
     "execution_count": 17,
     "metadata": {},
     "output_type": "execute_result"
    }
   ],
   "source": [
    "sma200 = SMA(ts, timeperiod=200)\n",
    "sma200.tail()"
   ]
  },
  {
   "cell_type": "markdown",
   "metadata": {},
   "source": [
    "Create technical indicator: SMA (using: timeperiod=200, price='open')"
   ]
  },
  {
   "cell_type": "code",
   "execution_count": 18,
   "metadata": {
    "ExecuteTime": {
     "end_time": "2019-08-05T19:30:30.080778Z",
     "start_time": "2019-08-05T19:30:30.061232Z"
    }
   },
   "outputs": [
    {
     "data": {
      "text/plain": [
       "date\n",
       "2019-07-30   278.36\n",
       "2019-07-31   278.48\n",
       "2019-08-01   278.58\n",
       "2019-08-02   278.67\n",
       "2019-08-05   278.73\n",
       "dtype: float64"
      ]
     },
     "execution_count": 18,
     "metadata": {},
     "output_type": "execute_result"
    }
   ],
   "source": [
    "sma200 = SMA(ts, timeperiod=200, price='open')\n",
    "sma200.tail()"
   ]
  },
  {
   "cell_type": "markdown",
   "metadata": {},
   "source": [
    "### Add a technical indicator to a pinkfish timeseries"
   ]
  },
  {
   "cell_type": "code",
   "execution_count": 19,
   "metadata": {
    "ExecuteTime": {
     "end_time": "2019-08-05T19:30:30.211793Z",
     "start_time": "2019-08-05T19:30:30.084255Z"
    },
    "scrolled": true
   },
   "outputs": [
    {
     "data": {
      "text/html": [
       "<div>\n",
       "<style scoped>\n",
       "    .dataframe tbody tr th:only-of-type {\n",
       "        vertical-align: middle;\n",
       "    }\n",
       "\n",
       "    .dataframe tbody tr th {\n",
       "        vertical-align: top;\n",
       "    }\n",
       "\n",
       "    .dataframe thead th {\n",
       "        text-align: right;\n",
       "    }\n",
       "</style>\n",
       "<table border=\"1\" class=\"dataframe\">\n",
       "  <thead>\n",
       "    <tr style=\"text-align: right;\">\n",
       "      <th></th>\n",
       "      <th>high</th>\n",
       "      <th>low</th>\n",
       "      <th>open</th>\n",
       "      <th>close</th>\n",
       "      <th>volume</th>\n",
       "      <th>adj_close</th>\n",
       "      <th>sma200</th>\n",
       "    </tr>\n",
       "    <tr>\n",
       "      <th>date</th>\n",
       "      <th></th>\n",
       "      <th></th>\n",
       "      <th></th>\n",
       "      <th></th>\n",
       "      <th></th>\n",
       "      <th></th>\n",
       "      <th></th>\n",
       "    </tr>\n",
       "  </thead>\n",
       "  <tbody>\n",
       "    <tr>\n",
       "      <th>2019-07-30</th>\n",
       "      <td>301.17</td>\n",
       "      <td>299.49</td>\n",
       "      <td>299.91</td>\n",
       "      <td>300.72</td>\n",
       "      <td>45849000.00</td>\n",
       "      <td>300.72</td>\n",
       "      <td>278.36</td>\n",
       "    </tr>\n",
       "    <tr>\n",
       "      <th>2019-07-31</th>\n",
       "      <td>301.20</td>\n",
       "      <td>295.20</td>\n",
       "      <td>300.99</td>\n",
       "      <td>297.43</td>\n",
       "      <td>104245200.00</td>\n",
       "      <td>297.43</td>\n",
       "      <td>278.48</td>\n",
       "    </tr>\n",
       "    <tr>\n",
       "      <th>2019-08-01</th>\n",
       "      <td>300.87</td>\n",
       "      <td>293.96</td>\n",
       "      <td>297.60</td>\n",
       "      <td>294.84</td>\n",
       "      <td>142646600.00</td>\n",
       "      <td>294.84</td>\n",
       "      <td>278.58</td>\n",
       "    </tr>\n",
       "    <tr>\n",
       "      <th>2019-08-02</th>\n",
       "      <td>294.12</td>\n",
       "      <td>290.90</td>\n",
       "      <td>293.85</td>\n",
       "      <td>292.62</td>\n",
       "      <td>115917700.00</td>\n",
       "      <td>292.62</td>\n",
       "      <td>278.67</td>\n",
       "    </tr>\n",
       "    <tr>\n",
       "      <th>2019-08-05</th>\n",
       "      <td>288.21</td>\n",
       "      <td>284.81</td>\n",
       "      <td>288.09</td>\n",
       "      <td>284.81</td>\n",
       "      <td>64929017.00</td>\n",
       "      <td>284.81</td>\n",
       "      <td>278.73</td>\n",
       "    </tr>\n",
       "  </tbody>\n",
       "</table>\n",
       "</div>"
      ],
      "text/plain": [
       "             high    low   open  close       volume  adj_close  sma200\n",
       "date                                                                  \n",
       "2019-07-30 301.17 299.49 299.91 300.72  45849000.00     300.72  278.36\n",
       "2019-07-31 301.20 295.20 300.99 297.43 104245200.00     297.43  278.48\n",
       "2019-08-01 300.87 293.96 297.60 294.84 142646600.00     294.84  278.58\n",
       "2019-08-02 294.12 290.90 293.85 292.62 115917700.00     292.62  278.67\n",
       "2019-08-05 288.21 284.81 288.09 284.81  64929017.00     284.81  278.73"
      ]
     },
     "execution_count": 19,
     "metadata": {},
     "output_type": "execute_result"
    }
   ],
   "source": [
    "ts['sma200'] = sma200\n",
    "ts.tail()"
   ]
  },
  {
   "cell_type": "markdown",
   "metadata": {},
   "source": [
    "### Try another one"
   ]
  },
  {
   "cell_type": "markdown",
   "metadata": {},
   "source": [
    "Commodity Channel Index"
   ]
  },
  {
   "cell_type": "code",
   "execution_count": 20,
   "metadata": {
    "ExecuteTime": {
     "end_time": "2019-08-05T19:30:30.232222Z",
     "start_time": "2019-08-05T19:30:30.217899Z"
    }
   },
   "outputs": [
    {
     "name": "stdout",
     "output_type": "stream",
     "text": [
      "CCI([input_arrays], [timeperiod=14])\n",
      "\n",
      "Commodity Channel Index (Momentum Indicators)\n",
      "\n",
      "Inputs:\n",
      "    prices: ['high', 'low', 'close']\n",
      "Parameters:\n",
      "    timeperiod: 14\n",
      "Outputs:\n",
      "    real\n"
     ]
    }
   ],
   "source": [
    "print(CCI)"
   ]
  },
  {
   "cell_type": "code",
   "execution_count": 21,
   "metadata": {
    "ExecuteTime": {
     "end_time": "2019-08-05T19:30:30.250768Z",
     "start_time": "2019-08-05T19:30:30.237197Z"
    }
   },
   "outputs": [
    {
     "name": "stdout",
     "output_type": "stream",
     "text": [
      "OrderedDict([('prices', ['high', 'low', 'close'])])\n"
     ]
    }
   ],
   "source": [
    "print(CCI.input_names)"
   ]
  },
  {
   "cell_type": "code",
   "execution_count": 22,
   "metadata": {
    "ExecuteTime": {
     "end_time": "2019-08-05T19:30:30.265778Z",
     "start_time": "2019-08-05T19:30:30.252473Z"
    }
   },
   "outputs": [
    {
     "name": "stdout",
     "output_type": "stream",
     "text": [
      "OrderedDict([('timeperiod', 14)])\n"
     ]
    }
   ],
   "source": [
    "print(CCI.parameters)"
   ]
  },
  {
   "cell_type": "code",
   "execution_count": 23,
   "metadata": {
    "ExecuteTime": {
     "end_time": "2019-08-05T19:30:30.308829Z",
     "start_time": "2019-08-05T19:30:30.269579Z"
    }
   },
   "outputs": [
    {
     "data": {
      "text/html": [
       "<div>\n",
       "<style scoped>\n",
       "    .dataframe tbody tr th:only-of-type {\n",
       "        vertical-align: middle;\n",
       "    }\n",
       "\n",
       "    .dataframe tbody tr th {\n",
       "        vertical-align: top;\n",
       "    }\n",
       "\n",
       "    .dataframe thead th {\n",
       "        text-align: right;\n",
       "    }\n",
       "</style>\n",
       "<table border=\"1\" class=\"dataframe\">\n",
       "  <thead>\n",
       "    <tr style=\"text-align: right;\">\n",
       "      <th></th>\n",
       "      <th>high</th>\n",
       "      <th>low</th>\n",
       "      <th>open</th>\n",
       "      <th>close</th>\n",
       "      <th>volume</th>\n",
       "      <th>adj_close</th>\n",
       "      <th>sma200</th>\n",
       "      <th>cci</th>\n",
       "    </tr>\n",
       "    <tr>\n",
       "      <th>date</th>\n",
       "      <th></th>\n",
       "      <th></th>\n",
       "      <th></th>\n",
       "      <th></th>\n",
       "      <th></th>\n",
       "      <th></th>\n",
       "      <th></th>\n",
       "      <th></th>\n",
       "    </tr>\n",
       "  </thead>\n",
       "  <tbody>\n",
       "    <tr>\n",
       "      <th>2019-07-30</th>\n",
       "      <td>301.17</td>\n",
       "      <td>299.49</td>\n",
       "      <td>299.91</td>\n",
       "      <td>300.72</td>\n",
       "      <td>45849000.00</td>\n",
       "      <td>300.72</td>\n",
       "      <td>278.36</td>\n",
       "      <td>45.99</td>\n",
       "    </tr>\n",
       "    <tr>\n",
       "      <th>2019-07-31</th>\n",
       "      <td>301.20</td>\n",
       "      <td>295.20</td>\n",
       "      <td>300.99</td>\n",
       "      <td>297.43</td>\n",
       "      <td>104245200.00</td>\n",
       "      <td>297.43</td>\n",
       "      <td>278.48</td>\n",
       "      <td>-100.50</td>\n",
       "    </tr>\n",
       "    <tr>\n",
       "      <th>2019-08-01</th>\n",
       "      <td>300.87</td>\n",
       "      <td>293.96</td>\n",
       "      <td>297.60</td>\n",
       "      <td>294.84</td>\n",
       "      <td>142646600.00</td>\n",
       "      <td>294.84</td>\n",
       "      <td>278.58</td>\n",
       "      <td>-143.30</td>\n",
       "    </tr>\n",
       "    <tr>\n",
       "      <th>2019-08-02</th>\n",
       "      <td>294.12</td>\n",
       "      <td>290.90</td>\n",
       "      <td>293.85</td>\n",
       "      <td>292.62</td>\n",
       "      <td>115917700.00</td>\n",
       "      <td>292.62</td>\n",
       "      <td>278.67</td>\n",
       "      <td>-243.46</td>\n",
       "    </tr>\n",
       "    <tr>\n",
       "      <th>2019-08-05</th>\n",
       "      <td>288.21</td>\n",
       "      <td>284.81</td>\n",
       "      <td>288.09</td>\n",
       "      <td>284.81</td>\n",
       "      <td>64929017.00</td>\n",
       "      <td>284.81</td>\n",
       "      <td>278.73</td>\n",
       "      <td>-301.41</td>\n",
       "    </tr>\n",
       "  </tbody>\n",
       "</table>\n",
       "</div>"
      ],
      "text/plain": [
       "             high    low   open  close       volume  adj_close  sma200     cci\n",
       "date                                                                          \n",
       "2019-07-30 301.17 299.49 299.91 300.72  45849000.00     300.72  278.36   45.99\n",
       "2019-07-31 301.20 295.20 300.99 297.43 104245200.00     297.43  278.48 -100.50\n",
       "2019-08-01 300.87 293.96 297.60 294.84 142646600.00     294.84  278.58 -143.30\n",
       "2019-08-02 294.12 290.90 293.85 292.62 115917700.00     292.62  278.67 -243.46\n",
       "2019-08-05 288.21 284.81 288.09 284.81  64929017.00     284.81  278.73 -301.41"
      ]
     },
     "execution_count": 23,
     "metadata": {},
     "output_type": "execute_result"
    }
   ],
   "source": [
    "cci = CCI(ts)\n",
    "ts['cci'] = cci\n",
    "ts.tail()"
   ]
  },
  {
   "cell_type": "markdown",
   "metadata": {},
   "source": [
    "### Now for something a little more difficult"
   ]
  },
  {
   "cell_type": "markdown",
   "metadata": {},
   "source": [
    "Bollinger Bands"
   ]
  },
  {
   "cell_type": "code",
   "execution_count": 24,
   "metadata": {
    "ExecuteTime": {
     "end_time": "2019-08-05T19:30:30.329852Z",
     "start_time": "2019-08-05T19:30:30.317856Z"
    },
    "scrolled": true
   },
   "outputs": [
    {
     "name": "stdout",
     "output_type": "stream",
     "text": [
      "BBANDS([input_arrays], [timeperiod=5], [nbdevup=2], [nbdevdn=2], [matype=0])\n",
      "\n",
      "Bollinger Bands (Overlap Studies)\n",
      "\n",
      "Inputs:\n",
      "    price: (any ndarray)\n",
      "Parameters:\n",
      "    timeperiod: 5\n",
      "    nbdevup: 2\n",
      "    nbdevdn: 2\n",
      "    matype: 0 (Simple Moving Average)\n",
      "Outputs:\n",
      "    upperband\n",
      "    middleband\n",
      "    lowerband\n"
     ]
    }
   ],
   "source": [
    "print(BBANDS)"
   ]
  },
  {
   "cell_type": "code",
   "execution_count": 25,
   "metadata": {
    "ExecuteTime": {
     "end_time": "2019-08-05T19:30:30.341805Z",
     "start_time": "2019-08-05T19:30:30.333894Z"
    }
   },
   "outputs": [
    {
     "name": "stdout",
     "output_type": "stream",
     "text": [
      "OrderedDict([('price', 'close')])\n"
     ]
    }
   ],
   "source": [
    "print(BBANDS.input_names)"
   ]
  },
  {
   "cell_type": "code",
   "execution_count": 26,
   "metadata": {
    "ExecuteTime": {
     "end_time": "2019-08-05T19:30:30.358797Z",
     "start_time": "2019-08-05T19:30:30.346614Z"
    }
   },
   "outputs": [
    {
     "name": "stdout",
     "output_type": "stream",
     "text": [
      "OrderedDict([('timeperiod', 5), ('nbdevup', 2), ('nbdevdn', 2), ('matype', 0)])\n"
     ]
    }
   ],
   "source": [
    "print(BBANDS.parameters)"
   ]
  },
  {
   "cell_type": "markdown",
   "metadata": {},
   "source": [
    "Print the available moving average types"
   ]
  },
  {
   "cell_type": "code",
   "execution_count": 27,
   "metadata": {
    "ExecuteTime": {
     "end_time": "2019-08-05T19:30:30.379787Z",
     "start_time": "2019-08-05T19:30:30.361900Z"
    }
   },
   "outputs": [
    {
     "data": {
      "text/plain": [
       "['DEMA', 'EMA', 'KAMA', 'MAMA', 'SMA', 'T3', 'TEMA', 'TRIMA', 'WMA', '_lookup']"
      ]
     },
     "execution_count": 27,
     "metadata": {},
     "output_type": "execute_result"
    }
   ],
   "source": [
    "attributes = [attr for attr in dir(MA_Type) \n",
    "              if not attr.startswith('__')]\n",
    "attributes"
   ]
  },
  {
   "cell_type": "code",
   "execution_count": 28,
   "metadata": {
    "ExecuteTime": {
     "end_time": "2019-08-05T19:30:30.400119Z",
     "start_time": "2019-08-05T19:30:30.388099Z"
    }
   },
   "outputs": [
    {
     "data": {
      "text/plain": [
       "{'_lookup': {0: 'Simple Moving Average',\n",
       "  1: 'Exponential Moving Average',\n",
       "  2: 'Weighted Moving Average',\n",
       "  3: 'Double Exponential Moving Average',\n",
       "  4: 'Triple Exponential Moving Average',\n",
       "  5: 'Triangular Moving Average',\n",
       "  6: 'Kaufman Adaptive Moving Average',\n",
       "  7: 'MESA Adaptive Moving Average',\n",
       "  8: 'Triple Generalized Double Exponential Moving Average'}}"
      ]
     },
     "execution_count": 28,
     "metadata": {},
     "output_type": "execute_result"
    }
   ],
   "source": [
    "MA_Type.__dict__"
   ]
  },
  {
   "cell_type": "code",
   "execution_count": 29,
   "metadata": {
    "ExecuteTime": {
     "end_time": "2019-08-05T19:30:30.419634Z",
     "start_time": "2019-08-05T19:30:30.406126Z"
    }
   },
   "outputs": [
    {
     "name": "stdout",
     "output_type": "stream",
     "text": [
      "Double Exponential Moving Average\n"
     ]
    }
   ],
   "source": [
    "print(MA_Type[MA_Type.DEMA])"
   ]
  },
  {
   "cell_type": "markdown",
   "metadata": {},
   "source": [
    "Set timeperiod=20 and matype=MA_Type.EMA"
   ]
  },
  {
   "cell_type": "code",
   "execution_count": 30,
   "metadata": {
    "ExecuteTime": {
     "end_time": "2019-08-05T19:30:30.474797Z",
     "start_time": "2019-08-05T19:30:30.421348Z"
    }
   },
   "outputs": [
    {
     "data": {
      "text/html": [
       "<div>\n",
       "<style scoped>\n",
       "    .dataframe tbody tr th:only-of-type {\n",
       "        vertical-align: middle;\n",
       "    }\n",
       "\n",
       "    .dataframe tbody tr th {\n",
       "        vertical-align: top;\n",
       "    }\n",
       "\n",
       "    .dataframe thead th {\n",
       "        text-align: right;\n",
       "    }\n",
       "</style>\n",
       "<table border=\"1\" class=\"dataframe\">\n",
       "  <thead>\n",
       "    <tr style=\"text-align: right;\">\n",
       "      <th></th>\n",
       "      <th>high</th>\n",
       "      <th>low</th>\n",
       "      <th>open</th>\n",
       "      <th>close</th>\n",
       "      <th>volume</th>\n",
       "      <th>adj_close</th>\n",
       "      <th>sma200</th>\n",
       "      <th>cci</th>\n",
       "      <th>upper</th>\n",
       "      <th>middle</th>\n",
       "      <th>lower</th>\n",
       "    </tr>\n",
       "    <tr>\n",
       "      <th>date</th>\n",
       "      <th></th>\n",
       "      <th></th>\n",
       "      <th></th>\n",
       "      <th></th>\n",
       "      <th></th>\n",
       "      <th></th>\n",
       "      <th></th>\n",
       "      <th></th>\n",
       "      <th></th>\n",
       "      <th></th>\n",
       "      <th></th>\n",
       "    </tr>\n",
       "  </thead>\n",
       "  <tbody>\n",
       "    <tr>\n",
       "      <th>2019-07-30</th>\n",
       "      <td>301.17</td>\n",
       "      <td>299.49</td>\n",
       "      <td>299.91</td>\n",
       "      <td>300.72</td>\n",
       "      <td>45849000.00</td>\n",
       "      <td>300.72</td>\n",
       "      <td>278.36</td>\n",
       "      <td>45.99</td>\n",
       "      <td>301.79</td>\n",
       "      <td>298.53</td>\n",
       "      <td>295.28</td>\n",
       "    </tr>\n",
       "    <tr>\n",
       "      <th>2019-07-31</th>\n",
       "      <td>301.20</td>\n",
       "      <td>295.20</td>\n",
       "      <td>300.99</td>\n",
       "      <td>297.43</td>\n",
       "      <td>104245200.00</td>\n",
       "      <td>297.43</td>\n",
       "      <td>278.48</td>\n",
       "      <td>-100.50</td>\n",
       "      <td>301.54</td>\n",
       "      <td>298.43</td>\n",
       "      <td>295.32</td>\n",
       "    </tr>\n",
       "    <tr>\n",
       "      <th>2019-08-01</th>\n",
       "      <td>300.87</td>\n",
       "      <td>293.96</td>\n",
       "      <td>297.60</td>\n",
       "      <td>294.84</td>\n",
       "      <td>142646600.00</td>\n",
       "      <td>294.84</td>\n",
       "      <td>278.58</td>\n",
       "      <td>-143.30</td>\n",
       "      <td>301.75</td>\n",
       "      <td>298.09</td>\n",
       "      <td>294.43</td>\n",
       "    </tr>\n",
       "    <tr>\n",
       "      <th>2019-08-02</th>\n",
       "      <td>294.12</td>\n",
       "      <td>290.90</td>\n",
       "      <td>293.85</td>\n",
       "      <td>292.62</td>\n",
       "      <td>115917700.00</td>\n",
       "      <td>292.62</td>\n",
       "      <td>278.67</td>\n",
       "      <td>-243.46</td>\n",
       "      <td>302.18</td>\n",
       "      <td>297.57</td>\n",
       "      <td>292.96</td>\n",
       "    </tr>\n",
       "    <tr>\n",
       "      <th>2019-08-05</th>\n",
       "      <td>288.21</td>\n",
       "      <td>284.81</td>\n",
       "      <td>288.09</td>\n",
       "      <td>284.81</td>\n",
       "      <td>64929017.00</td>\n",
       "      <td>284.81</td>\n",
       "      <td>278.73</td>\n",
       "      <td>-301.41</td>\n",
       "      <td>303.97</td>\n",
       "      <td>296.35</td>\n",
       "      <td>288.73</td>\n",
       "    </tr>\n",
       "  </tbody>\n",
       "</table>\n",
       "</div>"
      ],
      "text/plain": [
       "             high    low   open  close       volume  adj_close  sma200  \\\n",
       "date                                                                     \n",
       "2019-07-30 301.17 299.49 299.91 300.72  45849000.00     300.72  278.36   \n",
       "2019-07-31 301.20 295.20 300.99 297.43 104245200.00     297.43  278.48   \n",
       "2019-08-01 300.87 293.96 297.60 294.84 142646600.00     294.84  278.58   \n",
       "2019-08-02 294.12 290.90 293.85 292.62 115917700.00     292.62  278.67   \n",
       "2019-08-05 288.21 284.81 288.09 284.81  64929017.00     284.81  278.73   \n",
       "\n",
       "               cci  upper  middle  lower  \n",
       "date                                      \n",
       "2019-07-30   45.99 301.79  298.53 295.28  \n",
       "2019-07-31 -100.50 301.54  298.43 295.32  \n",
       "2019-08-01 -143.30 301.75  298.09 294.43  \n",
       "2019-08-02 -243.46 302.18  297.57 292.96  \n",
       "2019-08-05 -301.41 303.97  296.35 288.73  "
      ]
     },
     "execution_count": 30,
     "metadata": {},
     "output_type": "execute_result"
    }
   ],
   "source": [
    "#upper, middle, lower = BBANDS(ts, timeperiod=20, matype=MA_Type.EMA)\n",
    "#(for some reason, the abstract API doesn't work for BBANDS, so use the function API)\n",
    "\n",
    "upper, middle, lower = talib.BBANDS(ts.close, timeperiod=20, matype=MA_Type.EMA)\n",
    "ts['upper'] = upper; ts['middle'] = middle; ts['lower'] = lower\n",
    "ts.tail()"
   ]
  }
 ],
 "metadata": {
  "kernelspec": {
   "display_name": "Python 2",
   "language": "python",
   "name": "python2"
  },
  "language_info": {
   "codemirror_mode": {
    "name": "ipython",
    "version": 2
   },
   "file_extension": ".py",
   "mimetype": "text/x-python",
   "name": "python",
   "nbconvert_exporter": "python",
   "pygments_lexer": "ipython2",
   "version": "2.7.15+"
  },
  "latex_envs": {
   "LaTeX_envs_menu_present": true,
   "autoclose": false,
   "autocomplete": true,
   "bibliofile": "biblio.bib",
   "cite_by": "apalike",
   "current_citInitial": 1,
   "eqLabelWithNumbers": true,
   "eqNumInitial": 1,
   "hotkeys": {
    "equation": "Ctrl-E",
    "itemize": "Ctrl-I"
   },
   "labels_anchors": false,
   "latex_user_defs": false,
   "report_style_numbering": false,
   "user_envs_cfg": false
  }
 },
 "nbformat": 4,
 "nbformat_minor": 1
}
